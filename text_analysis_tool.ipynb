{
  "nbformat": 4,
  "nbformat_minor": 0,
  "metadata": {
    "colab": {
      "name": "Text_analysis_tool.ipynb",
      "provenance": [],
      "authorship_tag": "ABX9TyMJ/UDV49MJzk4AwT2bVRGc"
    },
    "kernelspec": {
      "name": "python3",
      "display_name": "Python 3"
    },
    "language_info": {
      "name": "python"
    }
  },
  "cells": [
    {
      "cell_type": "markdown",
      "source": [
        "Text analysis tool returning a dictionary with unique word count"
      ],
      "metadata": {
        "id": "Ibic5BbxTIoq"
      }
    },
    {
      "cell_type": "code",
      "source": [
        "class textAnalysis(object):\n",
        "    def __init__(self, text):\n",
        "        #Remove the punctuation from <text> and make it lower case\n",
        "        formattedText= text.replace(\".\", \"\").replace(\",\", \"\").replace(\"!\", \"\").replace(\"?\", \"\")\n",
        "        formattedText= formattedText.lower()\n",
        "        wordList= formattedText.split()\n",
        "        self.wordList = wordList\n",
        "        \n",
        "        #create dictionary\n",
        "        wordDict= {}\n",
        "        for word in set(self.wordList): #set-function removes duplicates\n",
        "            wordDict[word]=(self.wordList).count(word)\n",
        "        print(wordDict)\n"
      ],
      "metadata": {
        "id": "lZ2OU4gjTEyo"
      },
      "execution_count": 21,
      "outputs": []
    },
    {
      "cell_type": "code",
      "source": [
        "#test the program with sample text\n",
        "sampleText = (\"Lorem ipsum dolor! diam amet, consetetur Lorem magna. sed diam tempor? diam et labore? et diam magna. et diam amet.\")\n",
        "test = textAnalysis(sampleText)"
      ],
      "metadata": {
        "colab": {
          "base_uri": "https://localhost:8080/"
        },
        "id": "tUvaDOQHTgU4",
        "outputId": "1af97b98-e67a-4eba-9917-367467f47643"
      },
      "execution_count": 22,
      "outputs": [
        {
          "output_type": "stream",
          "name": "stdout",
          "text": [
            "{'dolor': 1, 'tempor': 1, 'labore': 1, 'sed': 1, 'diam': 5, 'magna': 2, 'lorem': 2, 'ipsum': 1, 'et': 3, 'consetetur': 1, 'amet': 2}\n"
          ]
        }
      ]
    }
  ]
}